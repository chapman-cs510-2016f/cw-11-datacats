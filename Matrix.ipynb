{
 "cells": [
  {
   "cell_type": "markdown",
   "metadata": {
    "collapsed": false
   },
   "source": [
    "# CW-11 : MATRIX \n",
    "#### Simrath Ratra & Andrew Nguyen"
   ]
  },
  {
   "cell_type": "markdown",
   "metadata": {
    "collapsed": true
   },
   "source": [
    "**Describe how the MATRIX type is defined and how it works in detail. Explain in particular the difference between “row-major ordering” and “column-major ordering” for multidimensional arrays, and which is the default in C. Explain how you could force C to use the non-default array ordering if desired:** \n",
    "\n",
    "The difference is that in row-major ordering consecutive elements of the rows of the array are adjacent in memory; in column-major ordering, consecutive elements of the columns are adjacent. Column major ordering accesses memory out of order and is slower. The default for C programs are row major ordering.\n",
    "The method is to take the first row and put all the cells in it and then you take the second row and put all the cells in it and then put it in memory. Within the rows and columns, values have to be consecutive. If column major ordering is used, then all values within column have to be consecutive. To force C to use non-default, you start with the column in the for loop and the second one would be a row- that way the row changes faster. For a matrix, (2 dimensional array) usually we access all the cells with two loops- the outer is for rows and inner is for column. For example, if a(2)(3), if you want to reverse access, you use the outer for loop for the column and the inner for loop for the row. "
   ]
  }
 ],
 "metadata": {
  "kernelspec": {
   "display_name": "Python 2 (SageMath)",
   "language": "python",
   "name": "python2"
  },
  "language_info": {
   "codemirror_mode": {
    "name": "ipython",
    "version": 2
   },
   "file_extension": ".py",
   "mimetype": "text/x-python",
   "name": "python",
   "nbconvert_exporter": "python",
   "pygments_lexer": "ipython2",
   "version": "2.7.10"
  }
 },
 "nbformat": 4,
 "nbformat_minor": 0
}
