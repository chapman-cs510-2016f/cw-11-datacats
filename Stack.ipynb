{
 "cells": [
  {
   "cell_type": "markdown",
   "metadata": {},
   "source": [
    "# CW- 11 STACK\n",
    "#### Simrath Ratra & Andrew Nguyen"
   ]
  },
  {
   "cell_type": "markdown",
   "metadata": {
    "collapsed": false
   },
   "source": [
    "**Describe how the STACK type is defined and how it works in detail. Explain in particular the various use of pointers throughout. Why is STACK itself defined as a pointer to a struct?:** \n",
    "\n",
    "A stack is a container of objects that are inserted and removed based on \"last in first out\" (LIFO). Two operations are used - push and pop. For push, you push the item into the stack whereas for pop you pop the item out of the stack. Things can changed (added or removed) from the stack only at the top. A stack is a recursive data structure. \n",
    "Pointers are needed for a stack if you need to modify the stack. New_stack creates an empty node because we are using a linked list. Push_stack uses 'malloc' which returns a pointer because when memory is stored a pointer is needed. Passing pointer to STACK when you modify inner pointer you need another pointer to reflect change on the original. \n",
    "For get_stack and print_stack no pointers are needed because nothing is being modified. \n",
    "We are using a linked list instead of a array and so this is why the stack is defined as a pointer to a struct."
   ]
  }
 ],
 "metadata": {
  "kernelspec": {
   "display_name": "Python 2 (SageMath)",
   "language": "python",
   "name": "python2"
  },
  "language_info": {
   "codemirror_mode": {
    "name": "ipython",
    "version": 2
   },
   "file_extension": ".py",
   "mimetype": "text/x-python",
   "name": "python",
   "nbconvert_exporter": "python",
   "pygments_lexer": "ipython2",
   "version": "2.7.10"
  }
 },
 "nbformat": 4,
 "nbformat_minor": 0
}
